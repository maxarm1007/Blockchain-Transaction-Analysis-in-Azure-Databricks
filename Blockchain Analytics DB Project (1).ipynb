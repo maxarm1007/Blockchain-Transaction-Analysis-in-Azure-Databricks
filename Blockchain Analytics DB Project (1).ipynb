{
 "cells": [
  {
   "cell_type": "code",
   "execution_count": 0,
   "metadata": {
    "application/vnd.databricks.v1+cell": {
     "cellMetadata": {
      "byteLimit": 2048000,
      "implicitDf": true,
      "rowLimit": 10000
     },
     "inputWidgets": {},
     "nuid": "ca1bd326-4fdf-4c0e-ba0c-5460d0705041",
     "showTitle": false,
     "tableResultSettingsMap": {},
     "title": ""
    }
   },
   "outputs": [
    {
     "output_type": "display_data",
     "data": {
      "text/html": [
       "<style scoped>\n",
       "  .table-result-container {\n",
       "    max-height: 300px;\n",
       "    overflow: auto;\n",
       "  }\n",
       "  table, th, td {\n",
       "    border: 1px solid black;\n",
       "    border-collapse: collapse;\n",
       "  }\n",
       "  th, td {\n",
       "    padding: 5px;\n",
       "  }\n",
       "  th {\n",
       "    text-align: left;\n",
       "  }\n",
       "</style><div class='table-result-container'><table class='table-result'><thead style='background-color: white'><tr><th>tx_id</th><th>timestamp</th><th>from_address</th><th>to_address</th><th>amount</th><th>is_mixer</th><th>entity_type</th><th>cluster_id</th><th>label</th></tr></thead><tbody><tr><td>6f7d1f01d5e74b108b9249e50c385331</td><td>11/07/2022 23:37</td><td>addr_b1d3f097</td><td>addr_db93d46e</td><td>0.10745528</td><td>false</td><td>individual</td><td>null</td><td>licit</td></tr><tr><td>ad0b78e2615545b991969e847fb8b3a8</td><td>11/09/2022 09:30</td><td>addr_6c33deab</td><td>addr_b30130b4</td><td>0.11586501</td><td>false</td><td>exchange</td><td>cluster_181</td><td>licit</td></tr><tr><td>f5ade982a233449a967eb1e809742608</td><td>13/01/2022 02:15</td><td>addr_d3c79689</td><td>addr_09509d9b</td><td>0.56944013</td><td>false</td><td>individual</td><td>cluster_75</td><td>licit</td></tr><tr><td>201e7c036e494adeac14f61549bfdcdd</td><td>23/07/2022 10:33</td><td>addr_6537be66</td><td>addr_2fc403c1</td><td>0.4655867</td><td>false</td><td>individual</td><td>cluster_2</td><td>licit</td></tr><tr><td>ae05b047dddf4ef2bc440ce6adcb6ee1</td><td>09/03/2022 10:17</td><td>addr_35b7220d</td><td>addr_1c4b70ac</td><td>0.25443045</td><td>false</td><td>illicit</td><td>null</td><td>illicit</td></tr><tr><td>9cc0fbb4d9434353a40051fce0752b55</td><td>23/12/2022 04:56</td><td>addr_4af603b1</td><td>addr_032fe314</td><td>0.38718698</td><td>false</td><td>exchange</td><td>cluster_53</td><td>licit</td></tr><tr><td>3b2315c76c534b0988f329c0ed6dead1</td><td>28/03/2022 05:37</td><td>addr_46f394f2</td><td>addr_d5e09ae7</td><td>0.05122399</td><td>false</td><td>individual</td><td>cluster_199</td><td>licit</td></tr><tr><td>a100b21ff1e94aeeb71fd2ec3032bdd3</td><td>12/08/2022 19:53</td><td>addr_0514d98a</td><td>addr_263a24b6</td><td>1.23422775</td><td>false</td><td>individual</td><td>null</td><td>licit</td></tr><tr><td>e3dbaf37cd1e47f0a2d4e1174272d93a</td><td>26/01/2022 19:33</td><td>addr_3edaba77</td><td>addr_2548cf7c</td><td>0.18206891</td><td>false</td><td>exchange</td><td>cluster_164</td><td>licit</td></tr><tr><td>1180d346083b44479fb06edfe3c95baf</td><td>14/08/2022 15:47</td><td>addr_05ead89f</td><td>addr_675404b2</td><td>0.39964229</td><td>false</td><td>exchange</td><td>null</td><td>licit</td></tr></tbody></table></div>"
      ]
     },
     "metadata": {
      "application/vnd.databricks.v1+output": {
       "addedWidgets": {},
       "aggData": [],
       "aggError": "",
       "aggOverflow": false,
       "aggSchema": [],
       "aggSeriesLimitReached": false,
       "aggType": "",
       "arguments": {},
       "columnCustomDisplayInfos": {},
       "data": [
        [
         "6f7d1f01d5e74b108b9249e50c385331",
         "11/07/2022 23:37",
         "addr_b1d3f097",
         "addr_db93d46e",
         0.10745528,
         false,
         "individual",
         null,
         "licit"
        ],
        [
         "ad0b78e2615545b991969e847fb8b3a8",
         "11/09/2022 09:30",
         "addr_6c33deab",
         "addr_b30130b4",
         0.11586501,
         false,
         "exchange",
         "cluster_181",
         "licit"
        ],
        [
         "f5ade982a233449a967eb1e809742608",
         "13/01/2022 02:15",
         "addr_d3c79689",
         "addr_09509d9b",
         0.56944013,
         false,
         "individual",
         "cluster_75",
         "licit"
        ],
        [
         "201e7c036e494adeac14f61549bfdcdd",
         "23/07/2022 10:33",
         "addr_6537be66",
         "addr_2fc403c1",
         0.4655867,
         false,
         "individual",
         "cluster_2",
         "licit"
        ],
        [
         "ae05b047dddf4ef2bc440ce6adcb6ee1",
         "09/03/2022 10:17",
         "addr_35b7220d",
         "addr_1c4b70ac",
         0.25443045,
         false,
         "illicit",
         null,
         "illicit"
        ],
        [
         "9cc0fbb4d9434353a40051fce0752b55",
         "23/12/2022 04:56",
         "addr_4af603b1",
         "addr_032fe314",
         0.38718698,
         false,
         "exchange",
         "cluster_53",
         "licit"
        ],
        [
         "3b2315c76c534b0988f329c0ed6dead1",
         "28/03/2022 05:37",
         "addr_46f394f2",
         "addr_d5e09ae7",
         0.05122399,
         false,
         "individual",
         "cluster_199",
         "licit"
        ],
        [
         "a100b21ff1e94aeeb71fd2ec3032bdd3",
         "12/08/2022 19:53",
         "addr_0514d98a",
         "addr_263a24b6",
         1.23422775,
         false,
         "individual",
         null,
         "licit"
        ],
        [
         "e3dbaf37cd1e47f0a2d4e1174272d93a",
         "26/01/2022 19:33",
         "addr_3edaba77",
         "addr_2548cf7c",
         0.18206891,
         false,
         "exchange",
         "cluster_164",
         "licit"
        ],
        [
         "1180d346083b44479fb06edfe3c95baf",
         "14/08/2022 15:47",
         "addr_05ead89f",
         "addr_675404b2",
         0.39964229,
         false,
         "exchange",
         null,
         "licit"
        ]
       ],
       "datasetInfos": [],
       "dbfsResultPath": null,
       "isJsonSchema": true,
       "metadata": {
        "createTempViewForImplicitDf": true,
        "dataframeName": "_sqldf",
        "executionCount": 5
       },
       "overflow": false,
       "plotOptions": {
        "customPlotOptions": {},
        "displayType": "table",
        "pivotAggregation": null,
        "pivotColumns": null,
        "xColumns": null,
        "yColumns": null
       },
       "removedWidgets": [],
       "schema": [
        {
         "metadata": "{}",
         "name": "tx_id",
         "type": "\"string\""
        },
        {
         "metadata": "{}",
         "name": "timestamp",
         "type": "\"string\""
        },
        {
         "metadata": "{}",
         "name": "from_address",
         "type": "\"string\""
        },
        {
         "metadata": "{}",
         "name": "to_address",
         "type": "\"string\""
        },
        {
         "metadata": "{}",
         "name": "amount",
         "type": "\"double\""
        },
        {
         "metadata": "{}",
         "name": "is_mixer",
         "type": "\"boolean\""
        },
        {
         "metadata": "{}",
         "name": "entity_type",
         "type": "\"string\""
        },
        {
         "metadata": "{}",
         "name": "cluster_id",
         "type": "\"string\""
        },
        {
         "metadata": "{}",
         "name": "label",
         "type": "\"string\""
        }
       ],
       "type": "table"
      }
     },
     "output_type": "display_data"
    }
   ],
   "source": [
    "%sql\n",
    "SELECT * FROM simulated_blockchain_transactions\n",
    "LIMIT 10;"
   ]
  },
  {
   "cell_type": "markdown",
   "metadata": {
    "application/vnd.databricks.v1+cell": {
     "cellMetadata": {},
     "inputWidgets": {},
     "nuid": "42320241-a63f-4064-89e1-93bf098e0f11",
     "showTitle": false,
     "tableResultSettingsMap": {},
     "title": ""
    }
   },
   "source": [
    "Total Transactions"
   ]
  },
  {
   "cell_type": "code",
   "execution_count": 0,
   "metadata": {
    "application/vnd.databricks.v1+cell": {
     "cellMetadata": {
      "byteLimit": 2048000,
      "implicitDf": true,
      "rowLimit": 10000
     },
     "inputWidgets": {},
     "nuid": "3e808b37-db04-4a07-b2a2-9b8133bf1ef8",
     "showTitle": false,
     "tableResultSettingsMap": {},
     "title": ""
    }
   },
   "outputs": [
    {
     "output_type": "display_data",
     "data": {
      "text/html": [
       "<style scoped>\n",
       "  .table-result-container {\n",
       "    max-height: 300px;\n",
       "    overflow: auto;\n",
       "  }\n",
       "  table, th, td {\n",
       "    border: 1px solid black;\n",
       "    border-collapse: collapse;\n",
       "  }\n",
       "  th, td {\n",
       "    padding: 5px;\n",
       "  }\n",
       "  th {\n",
       "    text-align: left;\n",
       "  }\n",
       "</style><div class='table-result-container'><table class='table-result'><thead style='background-color: white'><tr><th>total_transactions</th></tr></thead><tbody><tr><td>20000</td></tr></tbody></table></div>"
      ]
     },
     "metadata": {
      "application/vnd.databricks.v1+output": {
       "addedWidgets": {},
       "aggData": [],
       "aggError": "",
       "aggOverflow": false,
       "aggSchema": [],
       "aggSeriesLimitReached": false,
       "aggType": "",
       "arguments": {},
       "columnCustomDisplayInfos": {},
       "data": [
        [
         20000
        ]
       ],
       "datasetInfos": [],
       "dbfsResultPath": null,
       "isJsonSchema": true,
       "metadata": {
        "createTempViewForImplicitDf": true,
        "dataframeName": "_sqldf",
        "executionCount": 5
       },
       "overflow": false,
       "plotOptions": {
        "customPlotOptions": {},
        "displayType": "table",
        "pivotAggregation": null,
        "pivotColumns": null,
        "xColumns": null,
        "yColumns": null
       },
       "removedWidgets": [],
       "schema": [
        {
         "metadata": "{}",
         "name": "total_transactions",
         "type": "\"long\""
        }
       ],
       "type": "table"
      }
     },
     "output_type": "display_data"
    }
   ],
   "source": [
    "%sql\n",
    "SELECT COUNT(*) AS total_transactions\n",
    "FROM simulated_blockchain_transactions;"
   ]
  },
  {
   "cell_type": "markdown",
   "metadata": {
    "application/vnd.databricks.v1+cell": {
     "cellMetadata": {},
     "inputWidgets": {},
     "nuid": "7974c468-2ffb-4713-9ddf-eee7e7b02122",
     "showTitle": false,
     "tableResultSettingsMap": {},
     "title": ""
    }
   },
   "source": [
    "Transactions By Entity Type"
   ]
  },
  {
   "cell_type": "code",
   "execution_count": 0,
   "metadata": {
    "application/vnd.databricks.v1+cell": {
     "cellMetadata": {
      "byteLimit": 2048000,
      "implicitDf": true,
      "rowLimit": 10000
     },
     "inputWidgets": {},
     "nuid": "7497e716-7a03-47ee-b6ec-ae57fbb777c7",
     "showTitle": false,
     "tableResultSettingsMap": {},
     "title": ""
    }
   },
   "outputs": [
    {
     "output_type": "display_data",
     "data": {
      "text/html": [
       "<style scoped>\n",
       "  .table-result-container {\n",
       "    max-height: 300px;\n",
       "    overflow: auto;\n",
       "  }\n",
       "  table, th, td {\n",
       "    border: 1px solid black;\n",
       "    border-collapse: collapse;\n",
       "  }\n",
       "  th, td {\n",
       "    padding: 5px;\n",
       "  }\n",
       "  th {\n",
       "    text-align: left;\n",
       "  }\n",
       "</style><div class='table-result-container'><table class='table-result'><thead style='background-color: white'><tr><th>entity_type</th><th>txn_count</th></tr></thead><tbody><tr><td>individual</td><td>10146</td></tr><tr><td>exchange</td><td>4799</td></tr><tr><td>illicit</td><td>1981</td></tr><tr><td>marketplace</td><td>1976</td></tr><tr><td>unknown</td><td>1098</td></tr></tbody></table></div>"
      ]
     },
     "metadata": {
      "application/vnd.databricks.v1+output": {
       "addedWidgets": {},
       "aggData": [],
       "aggError": "",
       "aggOverflow": false,
       "aggSchema": [],
       "aggSeriesLimitReached": false,
       "aggType": "",
       "arguments": {},
       "columnCustomDisplayInfos": {},
       "data": [
        [
         "individual",
         10146
        ],
        [
         "exchange",
         4799
        ],
        [
         "illicit",
         1981
        ],
        [
         "marketplace",
         1976
        ],
        [
         "unknown",
         1098
        ]
       ],
       "datasetInfos": [],
       "dbfsResultPath": null,
       "isJsonSchema": true,
       "metadata": {
        "createTempViewForImplicitDf": true,
        "dataframeName": "_sqldf",
        "executionCount": 6
       },
       "overflow": false,
       "plotOptions": {
        "customPlotOptions": {},
        "displayType": "table",
        "pivotAggregation": null,
        "pivotColumns": null,
        "xColumns": null,
        "yColumns": null
       },
       "removedWidgets": [],
       "schema": [
        {
         "metadata": "{}",
         "name": "entity_type",
         "type": "\"string\""
        },
        {
         "metadata": "{}",
         "name": "txn_count",
         "type": "\"long\""
        }
       ],
       "type": "table"
      }
     },
     "output_type": "display_data"
    }
   ],
   "source": [
    "%sql\n",
    "SELECT entity_type, COUNT(*) AS txn_count\n",
    "FROM simulated_blockchain_transactions\n",
    "GROUP BY entity_type\n",
    "ORDER BY txn_count DESC;\n"
   ]
  },
  {
   "cell_type": "markdown",
   "metadata": {
    "application/vnd.databricks.v1+cell": {
     "cellMetadata": {},
     "inputWidgets": {},
     "nuid": "ef42fc80-b632-48db-b091-b80a8c981e93",
     "showTitle": false,
     "tableResultSettingsMap": {},
     "title": ""
    }
   },
   "source": [
    "Average Transaction Amount by Entity Type"
   ]
  },
  {
   "cell_type": "code",
   "execution_count": 0,
   "metadata": {
    "application/vnd.databricks.v1+cell": {
     "cellMetadata": {
      "byteLimit": 2048000,
      "implicitDf": true,
      "rowLimit": 10000
     },
     "inputWidgets": {},
     "nuid": "ecd1263a-d0c1-4510-b48b-992cebd476d0",
     "showTitle": false,
     "tableResultSettingsMap": {},
     "title": ""
    }
   },
   "outputs": [
    {
     "output_type": "display_data",
     "data": {
      "text/html": [
       "<style scoped>\n",
       "  .table-result-container {\n",
       "    max-height: 300px;\n",
       "    overflow: auto;\n",
       "  }\n",
       "  table, th, td {\n",
       "    border: 1px solid black;\n",
       "    border-collapse: collapse;\n",
       "  }\n",
       "  th, td {\n",
       "    padding: 5px;\n",
       "  }\n",
       "  th {\n",
       "    text-align: left;\n",
       "  }\n",
       "</style><div class='table-result-container'><table class='table-result'><thead style='background-color: white'><tr><th>entity_type</th><th>avg_amount</th></tr></thead><tbody><tr><td>marketplace</td><td>0.493735</td></tr><tr><td>unknown</td><td>0.524231</td></tr><tr><td>exchange</td><td>0.499174</td></tr><tr><td>illicit</td><td>0.496114</td></tr><tr><td>individual</td><td>0.499417</td></tr></tbody></table></div>"
      ]
     },
     "metadata": {
      "application/vnd.databricks.v1+output": {
       "addedWidgets": {},
       "aggData": [],
       "aggError": "",
       "aggOverflow": false,
       "aggSchema": [],
       "aggSeriesLimitReached": false,
       "aggType": "",
       "arguments": {},
       "columnCustomDisplayInfos": {},
       "data": [
        [
         "marketplace",
         0.493735
        ],
        [
         "unknown",
         0.524231
        ],
        [
         "exchange",
         0.499174
        ],
        [
         "illicit",
         0.496114
        ],
        [
         "individual",
         0.499417
        ]
       ],
       "datasetInfos": [],
       "dbfsResultPath": null,
       "isJsonSchema": true,
       "metadata": {
        "createTempViewForImplicitDf": true,
        "dataframeName": "_sqldf",
        "executionCount": 7
       },
       "overflow": false,
       "plotOptions": {
        "customPlotOptions": {},
        "displayType": "table",
        "pivotAggregation": null,
        "pivotColumns": null,
        "xColumns": null,
        "yColumns": null
       },
       "removedWidgets": [],
       "schema": [
        {
         "metadata": "{}",
         "name": "entity_type",
         "type": "\"string\""
        },
        {
         "metadata": "{}",
         "name": "avg_amount",
         "type": "\"double\""
        }
       ],
       "type": "table"
      }
     },
     "output_type": "display_data"
    }
   ],
   "source": [
    "%sql\n",
    "SELECT entity_type, ROUND(AVG(amount), 6) AS avg_amount\n",
    "FROM simulated_blockchain_transactions\n",
    "GROUP BY entity_type;"
   ]
  },
  {
   "cell_type": "markdown",
   "metadata": {
    "application/vnd.databricks.v1+cell": {
     "cellMetadata": {},
     "inputWidgets": {},
     "nuid": "03a95c1b-a3ee-4747-88f1-5a592751614d",
     "showTitle": false,
     "tableResultSettingsMap": {},
     "title": ""
    }
   },
   "source": [
    "Mixer Usuage Rate"
   ]
  },
  {
   "cell_type": "code",
   "execution_count": 0,
   "metadata": {
    "application/vnd.databricks.v1+cell": {
     "cellMetadata": {
      "byteLimit": 2048000,
      "implicitDf": true,
      "rowLimit": 10000
     },
     "inputWidgets": {},
     "nuid": "687d0317-6cd0-4db0-867f-b3af9372a0d5",
     "showTitle": false,
     "tableResultSettingsMap": {},
     "title": ""
    }
   },
   "outputs": [
    {
     "output_type": "display_data",
     "data": {
      "text/html": [
       "<style scoped>\n",
       "  .table-result-container {\n",
       "    max-height: 300px;\n",
       "    overflow: auto;\n",
       "  }\n",
       "  table, th, td {\n",
       "    border: 1px solid black;\n",
       "    border-collapse: collapse;\n",
       "  }\n",
       "  th, td {\n",
       "    padding: 5px;\n",
       "  }\n",
       "  th {\n",
       "    text-align: left;\n",
       "  }\n",
       "</style><div class='table-result-container'><table class='table-result'><thead style='background-color: white'><tr><th>is_mixer</th><th>count</th><th>pct</th></tr></thead><tbody><tr><td>true</td><td>987</td><td>4.94</td></tr><tr><td>false</td><td>19013</td><td>95.07</td></tr></tbody></table></div>"
      ]
     },
     "metadata": {
      "application/vnd.databricks.v1+output": {
       "addedWidgets": {},
       "aggData": [],
       "aggError": "",
       "aggOverflow": false,
       "aggSchema": [],
       "aggSeriesLimitReached": false,
       "aggType": "",
       "arguments": {},
       "columnCustomDisplayInfos": {},
       "data": [
        [
         true,
         987,
         "4.94"
        ],
        [
         false,
         19013,
         "95.07"
        ]
       ],
       "datasetInfos": [],
       "dbfsResultPath": null,
       "isJsonSchema": true,
       "metadata": {
        "createTempViewForImplicitDf": true,
        "dataframeName": "_sqldf",
        "executionCount": 8
       },
       "overflow": false,
       "plotOptions": {
        "customPlotOptions": {},
        "displayType": "table",
        "pivotAggregation": null,
        "pivotColumns": null,
        "xColumns": null,
        "yColumns": null
       },
       "removedWidgets": [],
       "schema": [
        {
         "metadata": "{}",
         "name": "is_mixer",
         "type": "\"boolean\""
        },
        {
         "metadata": "{}",
         "name": "count",
         "type": "\"long\""
        },
        {
         "metadata": "{}",
         "name": "pct",
         "type": "\"decimal(27,2)\""
        }
       ],
       "type": "table"
      }
     },
     "output_type": "display_data"
    }
   ],
   "source": [
    "%sql\n",
    "SELECT is_mixer, COUNT(*) AS count, ROUND(COUNT(*) * 100.0 / SUM(COUNT(*)) OVER (), 2) AS pct\n",
    "FROM simulated_blockchain_transactions\n",
    "GROUP BY is_mixer;"
   ]
  },
  {
   "cell_type": "markdown",
   "metadata": {
    "application/vnd.databricks.v1+cell": {
     "cellMetadata": {},
     "inputWidgets": {},
     "nuid": "95958d52-2fef-4ee4-926a-51b97569fc07",
     "showTitle": false,
     "tableResultSettingsMap": {},
     "title": ""
    }
   },
   "source": [
    "Illict VS Licit"
   ]
  },
  {
   "cell_type": "code",
   "execution_count": 0,
   "metadata": {
    "application/vnd.databricks.v1+cell": {
     "cellMetadata": {
      "byteLimit": 2048000,
      "implicitDf": true,
      "rowLimit": 10000
     },
     "inputWidgets": {},
     "nuid": "0faa0c1c-6cb0-4e45-abe0-41fa2aada5bb",
     "showTitle": false,
     "tableResultSettingsMap": {},
     "title": ""
    }
   },
   "outputs": [
    {
     "output_type": "display_data",
     "data": {
      "text/html": [
       "<style scoped>\n",
       "  .table-result-container {\n",
       "    max-height: 300px;\n",
       "    overflow: auto;\n",
       "  }\n",
       "  table, th, td {\n",
       "    border: 1px solid black;\n",
       "    border-collapse: collapse;\n",
       "  }\n",
       "  th, td {\n",
       "    padding: 5px;\n",
       "  }\n",
       "  th {\n",
       "    text-align: left;\n",
       "  }\n",
       "</style><div class='table-result-container'><table class='table-result'><thead style='background-color: white'><tr><th>label</th><th>txn_count</th></tr></thead><tbody><tr><td>licit</td><td>17122</td></tr><tr><td>illicit</td><td>2878</td></tr></tbody></table></div>"
      ]
     },
     "metadata": {
      "application/vnd.databricks.v1+output": {
       "addedWidgets": {},
       "aggData": [],
       "aggError": "",
       "aggOverflow": false,
       "aggSchema": [],
       "aggSeriesLimitReached": false,
       "aggType": "",
       "arguments": {},
       "columnCustomDisplayInfos": {},
       "data": [
        [
         "licit",
         17122
        ],
        [
         "illicit",
         2878
        ]
       ],
       "datasetInfos": [],
       "dbfsResultPath": null,
       "isJsonSchema": true,
       "metadata": {
        "createTempViewForImplicitDf": true,
        "dataframeName": "_sqldf",
        "executionCount": 9
       },
       "overflow": false,
       "plotOptions": {
        "customPlotOptions": {},
        "displayType": "table",
        "pivotAggregation": null,
        "pivotColumns": null,
        "xColumns": null,
        "yColumns": null
       },
       "removedWidgets": [],
       "schema": [
        {
         "metadata": "{}",
         "name": "label",
         "type": "\"string\""
        },
        {
         "metadata": "{}",
         "name": "txn_count",
         "type": "\"long\""
        }
       ],
       "type": "table"
      }
     },
     "output_type": "display_data"
    }
   ],
   "source": [
    "%sql\n",
    "SELECT label, COUNT(*) AS txn_count\n",
    "FROM simulated_blockchain_transactions\n",
    "GROUP BY label;"
   ]
  },
  {
   "cell_type": "markdown",
   "metadata": {
    "application/vnd.databricks.v1+cell": {
     "cellMetadata": {},
     "inputWidgets": {},
     "nuid": "9ee95fa6-a161-4bb2-b151-7f92c47d7447",
     "showTitle": false,
     "tableResultSettingsMap": {},
     "title": ""
    }
   },
   "source": [
    "Illict Activity By Entity Type"
   ]
  },
  {
   "cell_type": "code",
   "execution_count": 0,
   "metadata": {
    "application/vnd.databricks.v1+cell": {
     "cellMetadata": {
      "byteLimit": 2048000,
      "implicitDf": true,
      "rowLimit": 10000
     },
     "inputWidgets": {},
     "nuid": "ddc70507-8a5b-4c61-b842-e4da4880130b",
     "showTitle": false,
     "tableResultSettingsMap": {},
     "title": ""
    }
   },
   "outputs": [
    {
     "output_type": "display_data",
     "data": {
      "text/html": [
       "<style scoped>\n",
       "  .table-result-container {\n",
       "    max-height: 300px;\n",
       "    overflow: auto;\n",
       "  }\n",
       "  table, th, td {\n",
       "    border: 1px solid black;\n",
       "    border-collapse: collapse;\n",
       "  }\n",
       "  th, td {\n",
       "    padding: 5px;\n",
       "  }\n",
       "  th {\n",
       "    text-align: left;\n",
       "  }\n",
       "</style><div class='table-result-container'><table class='table-result'><thead style='background-color: white'><tr><th>entity_type</th><th>illicit_txns</th></tr></thead><tbody><tr><td>illicit</td><td>1981</td></tr><tr><td>individual</td><td>532</td></tr><tr><td>exchange</td><td>221</td></tr><tr><td>marketplace</td><td>92</td></tr><tr><td>unknown</td><td>52</td></tr></tbody></table></div>"
      ]
     },
     "metadata": {
      "application/vnd.databricks.v1+output": {
       "addedWidgets": {},
       "aggData": [],
       "aggError": "",
       "aggOverflow": false,
       "aggSchema": [],
       "aggSeriesLimitReached": false,
       "aggType": "",
       "arguments": {},
       "columnCustomDisplayInfos": {},
       "data": [
        [
         "illicit",
         1981
        ],
        [
         "individual",
         532
        ],
        [
         "exchange",
         221
        ],
        [
         "marketplace",
         92
        ],
        [
         "unknown",
         52
        ]
       ],
       "datasetInfos": [],
       "dbfsResultPath": null,
       "isJsonSchema": true,
       "metadata": {
        "createTempViewForImplicitDf": true,
        "dataframeName": "_sqldf",
        "executionCount": 10
       },
       "overflow": false,
       "plotOptions": {
        "customPlotOptions": {},
        "displayType": "table",
        "pivotAggregation": null,
        "pivotColumns": null,
        "xColumns": null,
        "yColumns": null
       },
       "removedWidgets": [],
       "schema": [
        {
         "metadata": "{}",
         "name": "entity_type",
         "type": "\"string\""
        },
        {
         "metadata": "{}",
         "name": "illicit_txns",
         "type": "\"long\""
        }
       ],
       "type": "table"
      }
     },
     "output_type": "display_data"
    }
   ],
   "source": [
    "%sql\n",
    "SELECT entity_type, COUNT(*) AS illicit_txns\n",
    "FROM simulated_blockchain_transactions\n",
    "WHERE label = 'illicit'\n",
    "GROUP BY entity_type\n",
    "ORDER BY illicit_txns DESC;"
   ]
  },
  {
   "cell_type": "markdown",
   "metadata": {
    "application/vnd.databricks.v1+cell": {
     "cellMetadata": {},
     "inputWidgets": {},
     "nuid": "72ba3c7c-d316-4bae-a54a-a826c429b2d2",
     "showTitle": false,
     "tableResultSettingsMap": {},
     "title": ""
    }
   },
   "source": [
    "Most Active Clusters"
   ]
  },
  {
   "cell_type": "code",
   "execution_count": 0,
   "metadata": {
    "application/vnd.databricks.v1+cell": {
     "cellMetadata": {
      "byteLimit": 2048000,
      "implicitDf": true,
      "rowLimit": 10000
     },
     "inputWidgets": {},
     "nuid": "f6c339f9-9f38-4a30-91dd-7f7566fe891c",
     "showTitle": false,
     "tableResultSettingsMap": {},
     "title": ""
    }
   },
   "outputs": [
    {
     "output_type": "display_data",
     "data": {
      "text/html": [
       "<style scoped>\n",
       "  .table-result-container {\n",
       "    max-height: 300px;\n",
       "    overflow: auto;\n",
       "  }\n",
       "  table, th, td {\n",
       "    border: 1px solid black;\n",
       "    border-collapse: collapse;\n",
       "  }\n",
       "  th, td {\n",
       "    padding: 5px;\n",
       "  }\n",
       "  th {\n",
       "    text-align: left;\n",
       "  }\n",
       "</style><div class='table-result-container'><table class='table-result'><thead style='background-color: white'><tr><th>cluster_id</th><th>txn_count</th></tr></thead><tbody><tr><td>cluster_123</td><td>108</td></tr><tr><td>cluster_152</td><td>107</td></tr><tr><td>cluster_198</td><td>104</td></tr><tr><td>cluster_194</td><td>103</td></tr><tr><td>cluster_125</td><td>103</td></tr><tr><td>cluster_191</td><td>102</td></tr><tr><td>cluster_187</td><td>101</td></tr><tr><td>cluster_129</td><td>100</td></tr><tr><td>cluster_159</td><td>99</td></tr><tr><td>cluster_175</td><td>97</td></tr></tbody></table></div>"
      ]
     },
     "metadata": {
      "application/vnd.databricks.v1+output": {
       "addedWidgets": {},
       "aggData": [],
       "aggError": "",
       "aggOverflow": false,
       "aggSchema": [],
       "aggSeriesLimitReached": false,
       "aggType": "",
       "arguments": {},
       "columnCustomDisplayInfos": {},
       "data": [
        [
         "cluster_123",
         108
        ],
        [
         "cluster_152",
         107
        ],
        [
         "cluster_198",
         104
        ],
        [
         "cluster_194",
         103
        ],
        [
         "cluster_125",
         103
        ],
        [
         "cluster_191",
         102
        ],
        [
         "cluster_187",
         101
        ],
        [
         "cluster_129",
         100
        ],
        [
         "cluster_159",
         99
        ],
        [
         "cluster_175",
         97
        ]
       ],
       "datasetInfos": [],
       "dbfsResultPath": null,
       "isJsonSchema": true,
       "metadata": {
        "createTempViewForImplicitDf": true,
        "dataframeName": "_sqldf",
        "executionCount": 11
       },
       "overflow": false,
       "plotOptions": {
        "customPlotOptions": {},
        "displayType": "table",
        "pivotAggregation": null,
        "pivotColumns": null,
        "xColumns": null,
        "yColumns": null
       },
       "removedWidgets": [],
       "schema": [
        {
         "metadata": "{}",
         "name": "cluster_id",
         "type": "\"string\""
        },
        {
         "metadata": "{}",
         "name": "txn_count",
         "type": "\"long\""
        }
       ],
       "type": "table"
      }
     },
     "output_type": "display_data"
    }
   ],
   "source": [
    "%sql\n",
    "SELECT cluster_id, COUNT(*) AS txn_count\n",
    "FROM simulated_blockchain_transactions\n",
    "WHERE cluster_id IS NOT NULL\n",
    "GROUP BY cluster_id\n",
    "ORDER BY txn_count DESC\n",
    "LIMIT 10;"
   ]
  },
  {
   "cell_type": "markdown",
   "metadata": {
    "application/vnd.databricks.v1+cell": {
     "cellMetadata": {},
     "inputWidgets": {},
     "nuid": "14cceb00-1674-47cc-94ae-13bdf7ed3a86",
     "showTitle": false,
     "tableResultSettingsMap": {},
     "title": ""
    }
   },
   "source": [
    "Clusters with most illict activity"
   ]
  },
  {
   "cell_type": "code",
   "execution_count": 0,
   "metadata": {
    "application/vnd.databricks.v1+cell": {
     "cellMetadata": {
      "byteLimit": 2048000,
      "implicitDf": true,
      "rowLimit": 10000
     },
     "inputWidgets": {},
     "nuid": "55b34789-d95b-42f2-b688-d3bbdf263fc9",
     "showTitle": false,
     "tableResultSettingsMap": {},
     "title": ""
    }
   },
   "outputs": [
    {
     "output_type": "display_data",
     "data": {
      "text/html": [
       "<style scoped>\n",
       "  .table-result-container {\n",
       "    max-height: 300px;\n",
       "    overflow: auto;\n",
       "  }\n",
       "  table, th, td {\n",
       "    border: 1px solid black;\n",
       "    border-collapse: collapse;\n",
       "  }\n",
       "  th, td {\n",
       "    padding: 5px;\n",
       "  }\n",
       "  th {\n",
       "    text-align: left;\n",
       "  }\n",
       "</style><div class='table-result-container'><table class='table-result'><thead style='background-color: white'><tr><th>cluster_id</th><th>total_txns</th><th>illicit_txns</th><th>pct_illicit</th></tr></thead><tbody><tr><td>cluster_120</td><td>26</td><td>26</td><td>100.00</td></tr><tr><td>cluster_161</td><td>18</td><td>18</td><td>100.00</td></tr><tr><td>cluster_151</td><td>86</td><td>65</td><td>75.58</td></tr><tr><td>cluster_72</td><td>41</td><td>29</td><td>70.73</td></tr><tr><td>cluster_41</td><td>57</td><td>39</td><td>68.42</td></tr><tr><td>cluster_173</td><td>42</td><td>26</td><td>61.90</td></tr><tr><td>cluster_92</td><td>46</td><td>27</td><td>58.70</td></tr><tr><td>cluster_154</td><td>33</td><td>18</td><td>54.55</td></tr><tr><td>cluster_100</td><td>41</td><td>22</td><td>53.66</td></tr><tr><td>cluster_189</td><td>38</td><td>20</td><td>52.63</td></tr></tbody></table></div>"
      ]
     },
     "metadata": {
      "application/vnd.databricks.v1+output": {
       "addedWidgets": {},
       "aggData": [],
       "aggError": "",
       "aggOverflow": false,
       "aggSchema": [],
       "aggSeriesLimitReached": false,
       "aggType": "",
       "arguments": {},
       "columnCustomDisplayInfos": {},
       "data": [
        [
         "cluster_120",
         26,
         26,
         "100.00"
        ],
        [
         "cluster_161",
         18,
         18,
         "100.00"
        ],
        [
         "cluster_151",
         86,
         65,
         "75.58"
        ],
        [
         "cluster_72",
         41,
         29,
         "70.73"
        ],
        [
         "cluster_41",
         57,
         39,
         "68.42"
        ],
        [
         "cluster_173",
         42,
         26,
         "61.90"
        ],
        [
         "cluster_92",
         46,
         27,
         "58.70"
        ],
        [
         "cluster_154",
         33,
         18,
         "54.55"
        ],
        [
         "cluster_100",
         41,
         22,
         "53.66"
        ],
        [
         "cluster_189",
         38,
         20,
         "52.63"
        ]
       ],
       "datasetInfos": [],
       "dbfsResultPath": null,
       "isJsonSchema": true,
       "metadata": {
        "createTempViewForImplicitDf": true,
        "dataframeName": "_sqldf",
        "executionCount": 12
       },
       "overflow": false,
       "plotOptions": {
        "customPlotOptions": {},
        "displayType": "table",
        "pivotAggregation": null,
        "pivotColumns": null,
        "xColumns": null,
        "yColumns": null
       },
       "removedWidgets": [],
       "schema": [
        {
         "metadata": "{}",
         "name": "cluster_id",
         "type": "\"string\""
        },
        {
         "metadata": "{}",
         "name": "total_txns",
         "type": "\"long\""
        },
        {
         "metadata": "{}",
         "name": "illicit_txns",
         "type": "\"long\""
        },
        {
         "metadata": "{}",
         "name": "pct_illicit",
         "type": "\"decimal(27,2)\""
        }
       ],
       "type": "table"
      }
     },
     "output_type": "display_data"
    }
   ],
   "source": [
    "%sql\n",
    "SELECT \n",
    "  cluster_id,\n",
    "  COUNT(*) AS total_txns,\n",
    "  SUM(CASE WHEN label = 'illicit' THEN 1 ELSE 0 END) AS illicit_txns,\n",
    "  ROUND(SUM(CASE WHEN label = 'illicit' THEN 1 ELSE 0 END) * 100.0 / COUNT(*), 2) AS pct_illicit\n",
    "FROM simulated_blockchain_transactions\n",
    "WHERE cluster_id IS NOT NULL\n",
    "GROUP BY cluster_id\n",
    "HAVING COUNT(*) >= 10\n",
    "ORDER BY pct_illicit DESC\n",
    "LIMIT 10;"
   ]
  },
  {
   "cell_type": "markdown",
   "metadata": {
    "application/vnd.databricks.v1+cell": {
     "cellMetadata": {},
     "inputWidgets": {},
     "nuid": "e46d2b1a-d024-4dbe-87d0-90ee044f6ead",
     "showTitle": false,
     "tableResultSettingsMap": {},
     "title": ""
    }
   },
   "source": [
    "Daily Transaction Volume"
   ]
  },
  {
   "cell_type": "code",
   "execution_count": 0,
   "metadata": {
    "application/vnd.databricks.v1+cell": {
     "cellMetadata": {
      "byteLimit": 2048000,
      "implicitDf": true,
      "rowLimit": 10000
     },
     "inputWidgets": {},
     "nuid": "2c59489f-6cc3-482b-a1e2-7427dced0b82",
     "showTitle": false,
     "tableResultSettingsMap": {},
     "title": ""
    }
   },
   "outputs": [
    {
     "output_type": "display_data",
     "data": {
      "text/html": [
       "<style scoped>\n",
       "  .table-result-container {\n",
       "    max-height: 300px;\n",
       "    overflow: auto;\n",
       "  }\n",
       "  table, th, td {\n",
       "    border: 1px solid black;\n",
       "    border-collapse: collapse;\n",
       "  }\n",
       "  th, td {\n",
       "    padding: 5px;\n",
       "  }\n",
       "  th {\n",
       "    text-align: left;\n",
       "  }\n",
       "</style><div class='table-result-container'><table class='table-result'><thead style='background-color: white'><tr><th>day</th><th>txn_count</th></tr></thead><tbody><tr><td>null</td><td>20000</td></tr></tbody></table></div>"
      ]
     },
     "metadata": {
      "application/vnd.databricks.v1+output": {
       "addedWidgets": {},
       "aggData": [],
       "aggError": "",
       "aggOverflow": false,
       "aggSchema": [],
       "aggSeriesLimitReached": false,
       "aggType": "",
       "arguments": {},
       "columnCustomDisplayInfos": {},
       "data": [
        [
         null,
         20000
        ]
       ],
       "datasetInfos": [],
       "dbfsResultPath": null,
       "isJsonSchema": true,
       "metadata": {
        "createTempViewForImplicitDf": true,
        "dataframeName": "_sqldf",
        "executionCount": 17
       },
       "overflow": false,
       "plotOptions": {
        "customPlotOptions": {},
        "displayType": "table",
        "pivotAggregation": null,
        "pivotColumns": null,
        "xColumns": null,
        "yColumns": null
       },
       "removedWidgets": [],
       "schema": [
        {
         "metadata": "{}",
         "name": "day",
         "type": "\"date\""
        },
        {
         "metadata": "{}",
         "name": "txn_count",
         "type": "\"long\""
        }
       ],
       "type": "table"
      }
     },
     "output_type": "display_data"
    }
   ],
   "source": [
    "%sql\n",
    "SELECT to_date(timestamp) AS day, COUNT(*) AS txn_count\n",
    "FROM simulated_blockchain_transactions\n",
    "GROUP BY day\n",
    "ORDER BY day;"
   ]
  },
  {
   "cell_type": "markdown",
   "metadata": {
    "application/vnd.databricks.v1+cell": {
     "cellMetadata": {},
     "inputWidgets": {},
     "nuid": "14385788-a9d7-434a-b66d-039797f0c089",
     "showTitle": false,
     "tableResultSettingsMap": {},
     "title": ""
    }
   },
   "source": [
    "Illict Activity Over Time"
   ]
  },
  {
   "cell_type": "code",
   "execution_count": 0,
   "metadata": {
    "application/vnd.databricks.v1+cell": {
     "cellMetadata": {
      "byteLimit": 2048000,
      "implicitDf": true,
      "rowLimit": 10000
     },
     "inputWidgets": {},
     "nuid": "68442b44-a963-44c4-aed9-8147bd072e97",
     "showTitle": false,
     "tableResultSettingsMap": {},
     "title": ""
    }
   },
   "outputs": [
    {
     "output_type": "display_data",
     "data": {
      "text/html": [
       "<style scoped>\n",
       "  .table-result-container {\n",
       "    max-height: 300px;\n",
       "    overflow: auto;\n",
       "  }\n",
       "  table, th, td {\n",
       "    border: 1px solid black;\n",
       "    border-collapse: collapse;\n",
       "  }\n",
       "  th, td {\n",
       "    padding: 5px;\n",
       "  }\n",
       "  th {\n",
       "    text-align: left;\n",
       "  }\n",
       "</style><div class='table-result-container'><table class='table-result'><thead style='background-color: white'><tr><th>day</th><th>illicit_txns</th><th>total_txns</th><th>pct_illicit</th></tr></thead><tbody><tr><td>null</td><td>2878</td><td>20000</td><td>14.39</td></tr></tbody></table></div>"
      ]
     },
     "metadata": {
      "application/vnd.databricks.v1+output": {
       "addedWidgets": {},
       "aggData": [],
       "aggError": "",
       "aggOverflow": false,
       "aggSchema": [],
       "aggSeriesLimitReached": false,
       "aggType": "",
       "arguments": {},
       "columnCustomDisplayInfos": {},
       "data": [
        [
         null,
         2878,
         20000,
         "14.39"
        ]
       ],
       "datasetInfos": [],
       "dbfsResultPath": null,
       "isJsonSchema": true,
       "metadata": {
        "createTempViewForImplicitDf": true,
        "dataframeName": "_sqldf",
        "executionCount": 16
       },
       "overflow": false,
       "plotOptions": {
        "customPlotOptions": {},
        "displayType": "table",
        "pivotAggregation": null,
        "pivotColumns": null,
        "xColumns": null,
        "yColumns": null
       },
       "removedWidgets": [],
       "schema": [
        {
         "metadata": "{}",
         "name": "day",
         "type": "\"timestamp\""
        },
        {
         "metadata": "{}",
         "name": "illicit_txns",
         "type": "\"long\""
        },
        {
         "metadata": "{}",
         "name": "total_txns",
         "type": "\"long\""
        },
        {
         "metadata": "{}",
         "name": "pct_illicit",
         "type": "\"decimal(27,2)\""
        }
       ],
       "type": "table"
      }
     },
     "output_type": "display_data"
    }
   ],
   "source": [
    "%sql\n",
    "SELECT date_trunc('DAY', timestamp) AS day,\n",
    "       SUM(CASE WHEN label = 'illicit' THEN 1 ELSE 0 END) AS illicit_txns,\n",
    "       COUNT(*) AS total_txns,\n",
    "       ROUND(SUM(CASE WHEN label = 'illicit' THEN 1 ELSE 0 END) * 100.0 / COUNT(*), 2) AS pct_illicit\n",
    "FROM simulated_blockchain_transactions\n",
    "GROUP BY day\n",
    "ORDER BY day;"
   ]
  }
 ],
 "metadata": {
  "application/vnd.databricks.v1+notebook": {
   "computePreferences": null,
   "dashboards": [],
   "environmentMetadata": {
    "base_environment": "",
    "environment_version": "2"
   },
   "language": "python",
   "notebookMetadata": {
    "mostRecentlyExecutedCommandWithImplicitDF": {
     "commandId": 581832693185027,
     "dataframes": [
      "_sqldf"
     ]
    },
    "pythonIndentUnit": 4
   },
   "notebookName": "Blockchain Analytics DB Project",
   "widgets": {}
  },
  "language_info": {
   "name": "python"
  }
 },
 "nbformat": 4,
 "nbformat_minor": 0
}